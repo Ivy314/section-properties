{
 "cells": [
  {
   "cell_type": "markdown",
   "id": "bc194acf-cd49-4b04-b3fd-c42d242ba7d4",
   "metadata": {},
   "source": [
    "# Pilkey - Composite Rectangular Strip"
   ]
  },
  {
   "cell_type": "code",
   "execution_count": null,
   "id": "598c77ab-e4b0-440b-98bb-b37bc5392769",
   "metadata": {},
   "outputs": [],
   "source": []
  }
 ],
 "metadata": {
  "kernelspec": {
   "display_name": "Python 3 (ipykernel)",
   "language": "python",
   "name": "python3"
  },
  "language_info": {
   "codemirror_mode": {
    "name": "ipython",
    "version": 3
   },
   "file_extension": ".py",
   "mimetype": "text/x-python",
   "name": "python",
   "nbconvert_exporter": "python",
   "pygments_lexer": "ipython3",
   "version": "3.9.17"
  }
 },
 "nbformat": 4,
 "nbformat_minor": 5
}
