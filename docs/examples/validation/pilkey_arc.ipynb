{
 "cells": [
  {
   "cell_type": "markdown",
   "id": "8e69f5df-c149-4d0b-9788-6539a8a03666",
   "metadata": {},
   "source": [
    "# Pilkey - Circular Arc"
   ]
  },
  {
   "cell_type": "code",
   "execution_count": null,
   "id": "a133ff88-41f4-439b-8113-bce17218767d",
   "metadata": {},
   "outputs": [],
   "source": []
  }
 ],
 "metadata": {
  "kernelspec": {
   "display_name": "Python 3 (ipykernel)",
   "language": "python",
   "name": "python3"
  },
  "language_info": {
   "codemirror_mode": {
    "name": "ipython",
    "version": 3
   },
   "file_extension": ".py",
   "mimetype": "text/x-python",
   "name": "python",
   "nbconvert_exporter": "python",
   "pygments_lexer": "ipython3",
   "version": "3.9.17"
  }
 },
 "nbformat": 4,
 "nbformat_minor": 5
}
