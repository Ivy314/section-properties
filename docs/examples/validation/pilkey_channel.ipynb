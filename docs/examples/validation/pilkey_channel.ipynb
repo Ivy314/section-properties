{
 "cells": [
  {
   "cell_type": "markdown",
   "id": "2fae7a3b-596c-4ab6-b995-84ac7af29473",
   "metadata": {},
   "source": [
    "# Pikley - Symmetric Channel Section"
   ]
  },
  {
   "cell_type": "code",
   "execution_count": null,
   "id": "be93e2d0-683d-4dbd-9caf-86865f50be49",
   "metadata": {},
   "outputs": [],
   "source": []
  }
 ],
 "metadata": {
  "kernelspec": {
   "display_name": "Python 3 (ipykernel)",
   "language": "python",
   "name": "python3"
  },
  "language_info": {
   "codemirror_mode": {
    "name": "ipython",
    "version": 3
   },
   "file_extension": ".py",
   "mimetype": "text/x-python",
   "name": "python",
   "nbconvert_exporter": "python",
   "pygments_lexer": "ipython3",
   "version": "3.9.17"
  }
 },
 "nbformat": 4,
 "nbformat_minor": 5
}
