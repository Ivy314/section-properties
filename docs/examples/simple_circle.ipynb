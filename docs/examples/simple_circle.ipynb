{
 "cells": [
  {
   "cell_type": "markdown",
   "id": "427dc019",
   "metadata": {},
   "source": [
    "# Simple Circle"
   ]
  },
  {
   "cell_type": "markdown",
   "id": "57eb833c",
   "metadata": {},
   "source": [
    "The following example calculates the geometric, warping and plastic properties of a 50 mm diameter circle. The circle is discretised with 64 points and a mesh size of 2.5 mm$^2$."
   ]
  },
  {
   "cell_type": "markdown",
   "id": "d87d8e4f",
   "metadata": {},
   "source": [
    "## Import Modules"
   ]
  },
  {
   "cell_type": "markdown",
   "id": "f99af4d9",
   "metadata": {},
   "source": [
    "We start by importing the [circular_section](../gen/sectionproperties.pre.library.primitive_sections.circular_section.rst#sectionproperties.pre.library.primitive_sections.circular_section) function from the section library, and the [Section()](../gen/sectionproperties.analysis.section.Section.rst#sectionproperties.analysis.section.Section) object for analysis."
   ]
  },
  {
   "cell_type": "code",
   "execution_count": null,
   "id": "7977bad0",
   "metadata": {},
   "outputs": [],
   "source": [
    "from sectionproperties.pre.library import circular_section\n",
    "from sectionproperties.analysis import Section"
   ]
  },
  {
   "cell_type": "markdown",
   "id": "5d2591fe",
   "metadata": {},
   "source": [
    "## Create Geometry"
   ]
  },
  {
   "cell_type": "markdown",
   "id": "8c211fb6",
   "metadata": {},
   "source": [
    "Create a 50 diameter circle discretised by 64 points and plot the geometry."
   ]
  },
  {
   "cell_type": "code",
   "execution_count": null,
   "id": "a6e33eec",
   "metadata": {},
   "outputs": [],
   "source": [
    "geom = circular_section(d=50, n=64)\n",
    "geom.plot_geometry()"
   ]
  },
  {
   "cell_type": "markdown",
   "id": "9fe1e181",
   "metadata": {},
   "source": [
    "## Create Mesh"
   ]
  },
  {
   "cell_type": "markdown",
   "id": "ae060497",
   "metadata": {},
   "source": [
    "Create a mesh with a mesh size of 2.5 mm$^2$."
   ]
  },
  {
   "cell_type": "code",
   "execution_count": null,
   "id": "2683bd8a",
   "metadata": {},
   "outputs": [],
   "source": [
    "%%capture\n",
    "geom.create_mesh(mesh_sizes=[2.5])"
   ]
  },
  {
   "cell_type": "markdown",
   "id": "6bb76830",
   "metadata": {},
   "source": [
    "## Create a ``Section`` object"
   ]
  },
  {
   "cell_type": "markdown",
   "id": "7f7c493b",
   "metadata": {},
   "source": [
    "Create a [Section()](../gen/sectionproperties.analysis.section.Section.rst#sectionproperties.analysis.section.Section) object, display mesh information and plot the finite element mesh."
   ]
  },
  {
   "cell_type": "code",
   "execution_count": null,
   "id": "56cce6d2",
   "metadata": {},
   "outputs": [],
   "source": [
    "sec = Section(geometry=geom)\n",
    "sec.display_mesh_info()\n",
    "sec.plot_mesh(materials=False)"
   ]
  },
  {
   "cell_type": "markdown",
   "id": "48933881",
   "metadata": {},
   "source": [
    "## Perform an Analysis"
   ]
  },
  {
   "cell_type": "markdown",
   "id": "82480ae5",
   "metadata": {},
   "source": [
    "We perform geometric, warping and plastic analyses. It is important to perform the geometric analysis first, as these results are required by the warping and plastic analyses."
   ]
  },
  {
   "cell_type": "code",
   "execution_count": null,
   "id": "3d378d56",
   "metadata": {},
   "outputs": [],
   "source": [
    "sec.calculate_geometric_properties()\n",
    "sec.calculate_warping_properties()\n",
    "sec.calculate_plastic_properties()"
   ]
  },
  {
   "cell_type": "markdown",
   "id": "3dd4d3e2",
   "metadata": {},
   "source": [
    "## Display Results"
   ]
  },
  {
   "cell_type": "markdown",
   "id": "56ef7b4e",
   "metadata": {},
   "source": [
    "Print the results to the terminal using [display_results()](../gen/sectionproperties.analysis.section.Section.rst#sectionproperties.analysis.section.Section.display_results)."
   ]
  },
  {
   "cell_type": "code",
   "execution_count": null,
   "id": "8c694e53",
   "metadata": {},
   "outputs": [],
   "source": [
    "sec.display_results()"
   ]
  },
  {
   "cell_type": "markdown",
   "id": "48a43707",
   "metadata": {},
   "source": [
    "We can get the second moments of area and the torsion constant using the [get_ic()](../gen/sectionproperties.analysis.section.Section.rst#sectionproperties.analysis.section.Section.get_ic) and [get_j()](../gen/sectionproperties.analysis.section.Section.rst#sectionproperties.analysis.section.Section.get_j) methods."
   ]
  },
  {
   "cell_type": "code",
   "execution_count": null,
   "id": "d3baaaa9",
   "metadata": {},
   "outputs": [],
   "source": [
    "ixx_c, iyy_c, ixy_c = sec.get_ic()\n",
    "j = sec.get_j()\n",
    "print(\"Ixx + Iyy + Ixy = {0:.3f}\".format(ixx_c + iyy_c + ixy_c))\n",
    "print(\"J = {0:.3f}\".format(j))"
   ]
  },
  {
   "cell_type": "markdown",
   "id": "395c4db3",
   "metadata": {},
   "source": [
    "It is clear that for a circular section, the torsion constant is equal to the sum of second moments of area!"
   ]
  }
 ],
 "metadata": {
  "kernelspec": {
   "display_name": "Python 3 (ipykernel)",
   "language": "python",
   "name": "python3"
  },
  "language_info": {
   "codemirror_mode": {
    "name": "ipython",
    "version": 3
   },
   "file_extension": ".py",
   "mimetype": "text/x-python",
   "name": "python",
   "nbconvert_exporter": "python",
   "pygments_lexer": "ipython3",
   "version": "3.9.17"
  }
 },
 "nbformat": 4,
 "nbformat_minor": 5
}
