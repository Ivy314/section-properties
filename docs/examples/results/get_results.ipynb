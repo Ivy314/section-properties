{
 "cells": [
  {
   "cell_type": "markdown",
   "id": "52a13fd5",
   "metadata": {},
   "source": [
    "# Retrieving Section Properties"
   ]
  },
  {
   "cell_type": "markdown",
   "id": "b20875b6",
   "metadata": {},
   "source": [
    "also focus on how materials affect results"
   ]
  },
  {
   "cell_type": "code",
   "execution_count": null,
   "id": "98a17f70",
   "metadata": {},
   "outputs": [],
   "source": []
  }
 ],
 "metadata": {
  "kernelspec": {
   "display_name": "Python 3 (ipykernel)",
   "language": "python",
   "name": "python3"
  },
  "language_info": {
   "codemirror_mode": {
    "name": "ipython",
    "version": 3
   },
   "file_extension": ".py",
   "mimetype": "text/x-python",
   "name": "python",
   "nbconvert_exporter": "python",
   "pygments_lexer": "ipython3",
   "version": "3.9.17"
  }
 },
 "nbformat": 4,
 "nbformat_minor": 5
}
